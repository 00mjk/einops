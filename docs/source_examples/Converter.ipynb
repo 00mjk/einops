{
 "cells": [
  {
   "cell_type": "markdown",
   "metadata": {},
   "source": [
    "# Goal of this script \n",
    "is to convert to "
   ]
  },
  {
   "cell_type": "code",
   "execution_count": 55,
   "metadata": {},
   "outputs": [],
   "source": [
    "import nbformat\n",
    "import markdown\n",
    "\n",
    "from pygments import highlight\n",
    "from pygments.lexers import PythonLexer\n",
    "from pygments.formatters import HtmlFormatter\n",
    "from pygments.styles import friendly"
   ]
  },
  {
   "cell_type": "code",
   "execution_count": 56,
   "metadata": {},
   "outputs": [],
   "source": [
    "notebook = nbformat.read('Pytorch.ipynb', as_version=nbformat.NO_CONVERT)"
   ]
  },
  {
   "cell_type": "code",
   "execution_count": 57,
   "metadata": {},
   "outputs": [],
   "source": [
    "content = ''"
   ]
  },
  {
   "cell_type": "code",
   "execution_count": 58,
   "metadata": {},
   "outputs": [],
   "source": [
    "cache = \"\"\n",
    "for cell in notebook['cells']:\n",
    "    if cell['cell_type'] == 'code':\n",
    "        source = cell['source']\n",
    "        # styleclass = 'nodisplay'\n",
    "        if source.startswith('#left'):\n",
    "            styleclass = 'cell-left'\n",
    "        elif source.startswith('#right'):\n",
    "            styleclass = 'cell-right'\n",
    "        else:\n",
    "            # skip\n",
    "            continue\n",
    "        source = source[source.index('\\n') + 1:]\n",
    "        if styleclass == 'cell-left':\n",
    "            cache =  \"<div class='{}'>{}</div>\".format(styleclass, highlight(source, PythonLexer(), HtmlFormatter()))\n",
    "        if styleclass == 'cell-right':\n",
    "            cache += \"<div class='{}'>{}</div>\".format(styleclass, highlight(source, PythonLexer(), HtmlFormatter()))\n",
    "            content += f\"<div class='leftright-cells'>{cache}</div> \"\n",
    "            cache = ''\n",
    "        \n",
    "    elif cell['cell_type'] == 'markdown':\n",
    "        content += \"<div class='markdown-cell'>{}</div>\".format(markdown.markdown(cell['source']))\n",
    "    else:\n",
    "        raise 'wtf'"
   ]
  },
  {
   "cell_type": "code",
   "execution_count": 59,
   "metadata": {},
   "outputs": [],
   "source": [
    "styles = HtmlFormatter().get_style_defs('.highlight')"
   ]
  },
  {
   "cell_type": "code",
   "execution_count": 60,
   "metadata": {},
   "outputs": [],
   "source": [
    "styles += '''\n",
    "    .cell-left{\n",
    "    }\n",
    "    .cell-right{\n",
    "    }\n",
    "    .leftright-cells {\n",
    "        display: flex;\n",
    "        width: 1200px;\n",
    "        margin: 10px auto;\n",
    "        justify-content: center;\n",
    "    }\n",
    "    .leftright-cells > div{\n",
    "        padding: 0px 10px;\n",
    "        flex-grow: 1;\n",
    "        flex-basis: 0;\n",
    "    }\n",
    "    .markdown-cell{\n",
    "        width: 700px;\n",
    "        margin: 0px auto;\n",
    "    }\n",
    "    h1 {\n",
    "        text-align: center;\n",
    "    }\n",
    "'''"
   ]
  },
  {
   "cell_type": "code",
   "execution_count": 61,
   "metadata": {},
   "outputs": [],
   "source": [
    "result = f'''\n",
    "<!DOCTYPE html>\n",
    "<html lang=\"en\">\n",
    "  <head>\n",
    "    <meta charset=\"utf-8\">\n",
    "    <title>Writing better code with pytorch+einops</title>\n",
    "    <style>{styles}</style>\n",
    "  </head>\n",
    "  <body>\n",
    "    {content}\n",
    "  </body>\n",
    "</html>\n",
    "'''"
   ]
  },
  {
   "cell_type": "code",
   "execution_count": 65,
   "metadata": {},
   "outputs": [],
   "source": [
    "with open('../pytorch-examples.html', 'w') as f:\n",
    "    f.write(result)"
   ]
  },
  {
   "cell_type": "code",
   "execution_count": 63,
   "metadata": {},
   "outputs": [],
   "source": [
    "#     <!-- \n",
    "#         <link rel=\"stylesheet\" href=\"style.css\">\n",
    "#         <script src=\"script.js\"></script> \n",
    "#     --> "
   ]
  },
  {
   "cell_type": "code",
   "execution_count": 64,
   "metadata": {},
   "outputs": [],
   "source": [
    "rm result.html"
   ]
  },
  {
   "cell_type": "code",
   "execution_count": null,
   "metadata": {},
   "outputs": [],
   "source": []
  }
 ],
 "metadata": {
  "kernelspec": {
   "display_name": "Python 3",
   "language": "python",
   "name": "python3"
  },
  "language_info": {
   "codemirror_mode": {
    "name": "ipython",
    "version": 3
   },
   "file_extension": ".py",
   "mimetype": "text/x-python",
   "name": "python",
   "nbconvert_exporter": "python",
   "pygments_lexer": "ipython3",
   "version": "3.6.6"
  }
 },
 "nbformat": 4,
 "nbformat_minor": 2
}
